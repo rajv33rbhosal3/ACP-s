{
  "nbformat": 4,
  "nbformat_minor": 0,
  "metadata": {
    "colab": {
      "provenance": [],
      "authorship_tag": "ABX9TyM3INHFEIFbPnXIDnH8cmgG",
      "include_colab_link": true
    },
    "kernelspec": {
      "name": "python3",
      "display_name": "Python 3"
    },
    "language_info": {
      "name": "python"
    }
  },
  "cells": [
    {
      "cell_type": "markdown",
      "metadata": {
        "id": "view-in-github",
        "colab_type": "text"
      },
      "source": [
        "<a href=\"https://colab.research.google.com/github/rajv33rbhosal3/ACP-s/blob/main/Untitled25.ipynb\" target=\"_parent\"><img src=\"https://colab.research.google.com/assets/colab-badge.svg\" alt=\"Open In Colab\"/></a>"
      ]
    },
    {
      "cell_type": "code",
      "execution_count": 2,
      "metadata": {
        "colab": {
          "base_uri": "https://localhost:8080/"
        },
        "id": "pYW-FEZ2mnFL",
        "outputId": "8c29c5dc-794e-472d-eebb-bf545168b2cb"
      },
      "outputs": [
        {
          "output_type": "stream",
          "name": "stdout",
          "text": [
            "0.3333333333333333\n",
            "red\n"
          ]
        }
      ],
      "source": [
        "import random\n",
        "def abc():\n",
        " ball = ['blue','red','green']\n",
        " res = random.choice(ball)\n",
        " prob = ball.count('red')/len(ball)\n",
        " print(prob)\n",
        " if res == 'red':\n",
        "   return res\n",
        " else:\n",
        "     return 'Try again later'\n",
        "res = abc()\n",
        "print(res)\n"
      ]
    },
    {
      "cell_type": "code",
      "source": [],
      "metadata": {
        "id": "CnAl0odjmuIe"
      },
      "execution_count": null,
      "outputs": []
    }
  ]
}